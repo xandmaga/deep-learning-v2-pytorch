{
 "cells": [
  {
   "cell_type": "markdown",
   "metadata": {},
   "source": [
    "# Inference and Validation\n",
    "\n",
    "Now that you have a trained network, you can use it for making predictions. This is typically called **inference**, a term borrowed from statistics. However, neural networks have a tendency to perform *too well* on the training data and aren't able to generalize to data that hasn't been seen before. This is called **overfitting** and it impairs inference performance. To test for overfitting while training, we measure the performance on data not in the training set called the **validation** set. We avoid overfitting through regularization such as dropout while monitoring the validation performance during training. In this notebook, I'll show you how to do this in PyTorch. \n",
    "\n",
    "As usual, let's start by loading the dataset through torchvision. You'll learn more about torchvision and loading data in a later part. This time we'll be taking advantage of the test set which you can get by setting `train=False` here:\n",
    "\n",
    "```python\n",
    "testset = datasets.FashionMNIST('~/.pytorch/F_MNIST_data/', download=True, train=False, transform=transform)\n",
    "```\n",
    "\n",
    "The test set contains images just like the training set. Typically you'll see 10-20% of the original dataset held out for testing and validation with the rest being used for training."
   ]
  },
  {
   "cell_type": "code",
   "execution_count": 1,
   "metadata": {},
   "outputs": [],
   "source": [
    "import torch\n",
    "from torchvision import datasets, transforms\n",
    "\n",
    "# Define a transform to normalize the data\n",
    "transform = transforms.Compose([transforms.ToTensor(),\n",
    "                                transforms.Normalize((0.5, 0.5, 0.5), (0.5, 0.5, 0.5))])\n",
    "# Download and load the training data\n",
    "trainset = datasets.FashionMNIST('~/.pytorch/F_MNIST_data/', download=True, train=True, transform=transform)\n",
    "trainloader = torch.utils.data.DataLoader(trainset, batch_size=64, shuffle=True)\n",
    "\n",
    "# Download and load the test data\n",
    "testset = datasets.FashionMNIST('~/.pytorch/F_MNIST_data/', download=True, train=False, transform=transform)\n",
    "testloader = torch.utils.data.DataLoader(testset, batch_size=64, shuffle=True)"
   ]
  },
  {
   "cell_type": "markdown",
   "metadata": {},
   "source": [
    "Here I'll create a model like normal, using the same one from my solution for part 4."
   ]
  },
  {
   "cell_type": "code",
   "execution_count": 3,
   "metadata": {},
   "outputs": [],
   "source": [
    "from torch import nn, optim\n",
    "import torch.nn.functional as F\n",
    "\n",
    "class Classifier(nn.Module):\n",
    "    def __init__(self):\n",
    "        super().__init__()\n",
    "        self.fc1 = nn.Linear(784, 256)\n",
    "        self.fc2 = nn.Linear(256, 128)\n",
    "        self.fc3 = nn.Linear(128, 64)\n",
    "        self.fc4 = nn.Linear(64, 10)\n",
    "        \n",
    "    def forward(self, x):\n",
    "        # make sure input tensor is flattened\n",
    "        x = x.view(x.shape[0], -1)\n",
    "        \n",
    "        x = F.relu(self.fc1(x))\n",
    "        x = F.relu(self.fc2(x))\n",
    "        x = F.relu(self.fc3(x))\n",
    "        x = F.log_softmax(self.fc4(x), dim=1)\n",
    "        \n",
    "        return x"
   ]
  },
  {
   "cell_type": "markdown",
   "metadata": {},
   "source": [
    "The goal of validation is to measure the model's performance on data that isn't part of the training set. Performance here is up to the developer to define though. Typically this is just accuracy, the percentage of classes the network predicted correctly. Other options are [precision and recall](https://en.wikipedia.org/wiki/Precision_and_recall#Definition_(classification_context)) and top-5 error rate. We'll focus on accuracy here. First I'll do a forward pass with one batch from the test set."
   ]
  },
  {
   "cell_type": "code",
   "execution_count": 12,
   "metadata": {},
   "outputs": [
    {
     "name": "stdout",
     "output_type": "stream",
     "text": [
      "torch.Size([64, 10])\n"
     ]
    }
   ],
   "source": [
    "model = Classifier()\n",
    "\n",
    "images, labels = next(iter(testloader))\n",
    "images = images.view(images.shape[0], -1)\n",
    "# Get the class probabilities\n",
    "ps = torch.exp(model(images))\n",
    "# Make sure the shape is appropriate, we should get 10 class probabilities for 64 examples\n",
    "print(ps.shape)\n",
    "#print(images[0].shape)"
   ]
  },
  {
   "cell_type": "markdown",
   "metadata": {},
   "source": [
    "With the probabilities, we can get the most likely class using the `ps.topk` method. This returns the $k$ highest values. Since we just want the most likely class, we can use `ps.topk(1)`. This returns a tuple of the top-$k$ values and the top-$k$ indices. If the highest value is the fifth element, we'll get back 4 as the index."
   ]
  },
  {
   "cell_type": "code",
   "execution_count": 13,
   "metadata": {},
   "outputs": [
    {
     "name": "stdout",
     "output_type": "stream",
     "text": [
      "tensor([[ 5],\n",
      "        [ 5],\n",
      "        [ 5],\n",
      "        [ 5],\n",
      "        [ 5],\n",
      "        [ 5],\n",
      "        [ 5],\n",
      "        [ 5],\n",
      "        [ 5],\n",
      "        [ 5]])\n"
     ]
    }
   ],
   "source": [
    "top_p, top_class = ps.topk(1, dim=1)\n",
    "# Look at the most likely classes for the first 10 examples\n",
    "print(top_class[:10,:])"
   ]
  },
  {
   "cell_type": "markdown",
   "metadata": {},
   "source": [
    "Now we can check if the predicted classes match the labels. This is simple to do by equating `top_class` and `labels`, but we have to be careful of the shapes. Here `top_class` is a 2D tensor with shape `(64, 1)` while `labels` is 1D with shape `(64)`. To get the equality to work out the way we want, `top_class` and `labels` must have the same shape.\n",
    "\n",
    "If we do\n",
    "\n",
    "```python\n",
    "equals = top_class == labels\n",
    "```\n",
    "\n",
    "`equals` will have shape `(64, 64)`, try it yourself. What it's doing is comparing the one element in each row of `top_class` with each element in `labels` which returns 64 True/False boolean values for each row."
   ]
  },
  {
   "cell_type": "code",
   "execution_count": 14,
   "metadata": {},
   "outputs": [],
   "source": [
    "equals = top_class == labels.view(*top_class.shape)"
   ]
  },
  {
   "cell_type": "markdown",
   "metadata": {},
   "source": [
    "Now we need to calculate the percentage of correct predictions. `equals` has binary values, either 0 or 1. This means that if we just sum up all the values and divide by the number of values, we get the percentage of correct predictions. This is the same operation as taking the mean, so we can get the accuracy with a call to `torch.mean`. If only it was that simple. If you try `torch.mean(equals)`, you'll get an error\n",
    "\n",
    "```\n",
    "RuntimeError: mean is not implemented for type torch.ByteTensor\n",
    "```\n",
    "\n",
    "This happens because `equals` has type `torch.ByteTensor` but `torch.mean` isn't implemented for tensors with that type. So we'll need to convert `equals` to a float tensor. Note that when we take `torch.mean` it returns a scalar tensor, to get the actual value as a float we'll need to do `accuracy.item()`."
   ]
  },
  {
   "cell_type": "code",
   "execution_count": 15,
   "metadata": {},
   "outputs": [
    {
     "name": "stdout",
     "output_type": "stream",
     "text": [
      "Accuracy: 12.5%\n"
     ]
    }
   ],
   "source": [
    "accuracy = torch.mean(equals.type(torch.FloatTensor))\n",
    "print(f'Accuracy: {accuracy.item()*100}%')"
   ]
  },
  {
   "cell_type": "markdown",
   "metadata": {},
   "source": [
    "The network is untrained so it's making random guesses and we should see an accuracy around 10%. Now let's train our network and include our validation pass so we can measure how well the network is performing on the test set. Since we're not updating our parameters in the validation pass, we can speed up our code by turning off gradients using `torch.no_grad()`:\n",
    "\n",
    "```python\n",
    "# turn off gradients\n",
    "with torch.no_grad():\n",
    "    # validation pass here\n",
    "    for images, labels in testloader:\n",
    "        ...\n",
    "```\n",
    "\n",
    ">**Exercise:** Implement the validation loop below and print out the total accuracy after the loop. You can largely copy and paste the code from above, but I suggest typing it in because writing it out yourself is essential for building the skill. In general you'll always learn more by typing it rather than copy-pasting. You should be able to get an accuracy above 80%."
   ]
  },
  {
   "cell_type": "code",
   "execution_count": 17,
   "metadata": {},
   "outputs": [
    {
     "name": "stdout",
     "output_type": "stream",
     "text": [
      "Epoch: 1\n",
      "Train loss: 0.5175426174709792\n",
      "Validation loss: 0.4152942895889282\n",
      "Accuracy: 84.91242218017578%\n"
     ]
    }
   ],
   "source": [
    "model = Classifier()\n",
    "criterion = nn.NLLLoss()\n",
    "optimizer = optim.Adam(model.parameters(), lr=0.003)\n",
    "\n",
    "epochs = 30\n",
    "steps = 0\n",
    "\n",
    "train_losses, test_losses = [], []\n",
    "for e in range(epochs):\n",
    "    running_loss = 0\n",
    "    for images, labels in trainloader:\n",
    "        images = images.view(images.shape[0], -1)\n",
    "        optimizer.zero_grad()\n",
    "        \n",
    "        log_ps = model(images)\n",
    "        loss = criterion(log_ps, labels)\n",
    "        loss.backward()\n",
    "        optimizer.step()\n",
    "        \n",
    "        running_loss += loss.item()\n",
    "        \n",
    "    else:\n",
    "        with torch.no_grad():\n",
    "            ## TODO: Implement the validation pass and print out the validation accuracy\n",
    "            val_loss = 0\n",
    "            val_accuracy = 0\n",
    "            for images, labels in testloader:\n",
    "                images = images.view(images.shape[0], -1)\n",
    "                img_cl_predictions = model(images)\n",
    "                val_loss += criterion(img_cl_predictions, labels)\n",
    "                \n",
    "                top1_v, top1_cl = img_cl_predictions.topk(1, dim=1)\n",
    "                equals = top1_cl == labels.view(*top1_cl.shape)\n",
    "                val_accuracy += torch.mean(equals.type(torch.FloatTensor))\n",
    "            print(f'Epoch: {e + 1}')\n",
    "            print(f'Train loss: {running_loss/len(trainloader)}')\n",
    "            print(f'Validation loss: {val_loss/len(testloader)}')\n",
    "            print(f'Accuracy: {val_accuracy/len(testloader)*100}%')"
   ]
  },
  {
   "cell_type": "markdown",
   "metadata": {},
   "source": [
    "## Overfitting\n",
    "\n",
    "If we look at the training and validation losses as we train the network, we can see a phenomenon known as overfitting.\n",
    "\n",
    "<img src='assets/overfitting.png' width=450px>\n",
    "\n",
    "The network learns the training set better and better, resulting in lower training losses. However, it starts having problems generalizing to data outside the training set leading to the validation loss increasing. The ultimate goal of any deep learning model is to make predictions on new data, so we should strive to get the lowest validation loss possible. One option is to use the version of the model with the lowest validation loss, here the one around 8-10 training epochs. This strategy is called *early-stopping*. In practice, you'd save the model frequently as you're training then later choose the model with the lowest validation loss.\n",
    "\n",
    "The most common method to reduce overfitting (outside of early-stopping) is *dropout*, where we randomly drop input units. This forces the network to share information between weights, increasing it's ability to generalize to new data. Adding dropout in PyTorch is straightforward using the [`nn.Dropout`](https://pytorch.org/docs/stable/nn.html#torch.nn.Dropout) module.\n",
    "\n",
    "```python\n",
    "class Classifier(nn.Module):\n",
    "    def __init__(self):\n",
    "        super().__init__()\n",
    "        self.fc1 = nn.Linear(784, 256)\n",
    "        self.fc2 = nn.Linear(256, 128)\n",
    "        self.fc3 = nn.Linear(128, 64)\n",
    "        self.fc4 = nn.Linear(64, 10)\n",
    "        \n",
    "        # Dropout module with 0.2 drop probability\n",
    "        self.dropout = nn.Dropout(p=0.2)\n",
    "        \n",
    "    def forward(self, x):\n",
    "        # make sure input tensor is flattened\n",
    "        x = x.view(x.shape[0], -1)\n",
    "        \n",
    "        # Now with dropout\n",
    "        x = self.dropout(F.relu(self.fc1(x)))\n",
    "        x = self.dropout(F.relu(self.fc2(x)))\n",
    "        x = self.dropout(F.relu(self.fc3(x)))\n",
    "        \n",
    "        # output so no dropout here\n",
    "        x = F.log_softmax(self.fc4(x), dim=1)\n",
    "        \n",
    "        return x\n",
    "```\n",
    "\n",
    "During training we want to use dropout to prevent overfitting, but during inference we want to use the entire network. So, we need to turn off dropout during validation, testing, and whenever we're using the network to make predictions. To do this, you use `model.eval()`. This sets the model to evaluation mode where the dropout probability is 0. You can turn dropout back on by setting the model to train mode with `model.train()`. In general, the pattern for the validation loop will look like this, where you turn off gradients, set the model to evaluation mode, calculate the validation loss and metric, then set the model back to train mode.\n",
    "\n",
    "```python\n",
    "# turn off gradients\n",
    "with torch.no_grad():\n",
    "    \n",
    "    # set model to evaluation mode\n",
    "    model.eval()\n",
    "    \n",
    "    # validation pass here\n",
    "    for images, labels in testloader:\n",
    "        ...\n",
    "\n",
    "# set model back to train mode\n",
    "model.train()\n",
    "```"
   ]
  },
  {
   "cell_type": "markdown",
   "metadata": {},
   "source": [
    "> **Exercise:** Add dropout to your model and train it on Fashion-MNIST again. See if you can get a lower validation loss or higher accuracy."
   ]
  },
  {
   "cell_type": "code",
   "execution_count": 29,
   "metadata": {},
   "outputs": [],
   "source": [
    "## TODO: Define your model with dropout added\n",
    "from torch import nn\n",
    "import torch.nn.functional as F\n",
    "\n",
    "#defining the model\n",
    "model = nn.Sequential(nn.Linear(784, 256),\n",
    "                     nn.ReLU(),\n",
    "                     nn.Dropout(p=0.2),\n",
    "                     nn.Linear(256, 64),\n",
    "                     nn.ReLU(),\n",
    "                     nn.Dropout(p=0.2),\n",
    "                     nn.Linear(64,10))"
   ]
  },
  {
   "cell_type": "code",
   "execution_count": 30,
   "metadata": {},
   "outputs": [
    {
     "name": "stdout",
     "output_type": "stream",
     "text": [
      "Epoch: 1\n",
      "Train loss: 0.6378352125284514\n",
      "Validation loss: 0.44856324791908264\n",
      "Accuracy: 83.45939636230469%\n",
      "Epoch: 2\n",
      "Train loss: 0.44185313941446197\n",
      "Validation loss: 0.4088759124279022\n",
      "Accuracy: 85.10151672363281%\n",
      "Epoch: 3\n",
      "Train loss: 0.4030042535333491\n",
      "Validation loss: 0.3917493224143982\n",
      "Accuracy: 85.80812072753906%\n",
      "Epoch: 4\n",
      "Train loss: 0.37588419256878813\n",
      "Validation loss: 0.3936295807361603\n",
      "Accuracy: 85.51950073242188%\n",
      "Epoch: 5\n",
      "Train loss: 0.3586578328154489\n",
      "Validation loss: 0.36066338419914246\n",
      "Accuracy: 86.8829574584961%\n",
      "Epoch: 6\n",
      "Train loss: 0.34575449124868235\n",
      "Validation loss: 0.3578086793422699\n",
      "Accuracy: 87.42037963867188%\n",
      "Epoch: 7\n",
      "Train loss: 0.3310144129338295\n",
      "Validation loss: 0.3630721867084503\n",
      "Accuracy: 86.68391418457031%\n",
      "Epoch: 8\n",
      "Train loss: 0.31837822718502107\n",
      "Validation loss: 0.3619072437286377\n",
      "Accuracy: 87.08200073242188%\n",
      "Epoch: 9\n",
      "Train loss: 0.3112213985561562\n",
      "Validation loss: 0.3578740358352661\n",
      "Accuracy: 87.10191345214844%\n",
      "Epoch: 10\n",
      "Train loss: 0.3004007032240378\n",
      "Validation loss: 0.3424479365348816\n",
      "Accuracy: 87.72889709472656%\n",
      "Epoch: 11\n",
      "Train loss: 0.293822358936262\n",
      "Validation loss: 0.3432767987251282\n",
      "Accuracy: 87.97770690917969%\n",
      "Epoch: 12\n",
      "Train loss: 0.28530004384643487\n",
      "Validation loss: 0.3341538608074188\n",
      "Accuracy: 88.3061294555664%\n",
      "Epoch: 13\n",
      "Train loss: 0.28167843848053836\n",
      "Validation loss: 0.33590203523635864\n",
      "Accuracy: 87.9478530883789%\n",
      "Epoch: 14\n",
      "Train loss: 0.2748778573374377\n",
      "Validation loss: 0.3253383934497833\n",
      "Accuracy: 88.52507781982422%\n",
      "Epoch: 15\n",
      "Train loss: 0.26901351175964006\n",
      "Validation loss: 0.3263396918773651\n",
      "Accuracy: 88.7838363647461%\n",
      "Epoch: 16\n",
      "Train loss: 0.26627565675707004\n",
      "Validation loss: 0.3301790952682495\n",
      "Accuracy: 88.40564727783203%\n",
      "Epoch: 17\n",
      "Train loss: 0.25780659820288737\n",
      "Validation loss: 0.33948075771331787\n",
      "Accuracy: 87.81847381591797%\n",
      "Epoch: 18\n",
      "Train loss: 0.2543315685300558\n",
      "Validation loss: 0.32224783301353455\n",
      "Accuracy: 88.68431091308594%\n",
      "Epoch: 19\n",
      "Train loss: 0.24937573001424132\n",
      "Validation loss: 0.33862602710723877\n",
      "Accuracy: 88.37579345703125%\n",
      "Epoch: 20\n",
      "Train loss: 0.24427727868816237\n",
      "Validation loss: 0.32382020354270935\n",
      "Accuracy: 88.80374145507812%\n",
      "Epoch: 21\n",
      "Train loss: 0.24230888367557069\n",
      "Validation loss: 0.3349764049053192\n",
      "Accuracy: 88.62460327148438%\n",
      "Epoch: 22\n",
      "Train loss: 0.24067105967273464\n",
      "Validation loss: 0.32085564732551575\n",
      "Accuracy: 88.74402618408203%\n",
      "Epoch: 23\n",
      "Train loss: 0.23504085401529823\n",
      "Validation loss: 0.32176727056503296\n",
      "Accuracy: 89.21178436279297%\n",
      "Epoch: 24\n",
      "Train loss: 0.22834273431696364\n",
      "Validation loss: 0.3125256299972534\n",
      "Accuracy: 89.1719741821289%\n",
      "Epoch: 25\n",
      "Train loss: 0.2257982092990931\n",
      "Validation loss: 0.321088582277298\n",
      "Accuracy: 88.93312072753906%\n",
      "Epoch: 26\n",
      "Train loss: 0.22250295353374247\n",
      "Validation loss: 0.3245302736759186\n",
      "Accuracy: 88.99283599853516%\n",
      "Epoch: 27\n",
      "Train loss: 0.22000321512346838\n",
      "Validation loss: 0.34351983666419983\n",
      "Accuracy: 88.4454574584961%\n",
      "Epoch: 28\n",
      "Train loss: 0.2201201848741343\n",
      "Validation loss: 0.31634777784347534\n",
      "Accuracy: 89.41082763671875%\n",
      "Epoch: 29\n",
      "Train loss: 0.21288998507614584\n",
      "Validation loss: 0.3398623764514923\n",
      "Accuracy: 88.54498291015625%\n",
      "Epoch: 30\n",
      "Train loss: 0.21141106740577514\n",
      "Validation loss: 0.3152719736099243\n",
      "Accuracy: 89.16202545166016%\n"
     ]
    }
   ],
   "source": [
    "## TODO: Train your model with dropout, and monitor the training progress with the validation loss and accuracy\n",
    "from torch import optim\n",
    "\n",
    "criterion = nn.CrossEntropyLoss()\n",
    "optmizer = optim.SGD(model.parameters(), lr=0.01, momentum=0.9)\n",
    "epochs = 30\n",
    "for e in range(epochs):\n",
    "    loss_epoch = 0\n",
    "    for images, labels in trainloader:\n",
    "        # get trainning dataset\n",
    "        images = images.view(images.shape[0], -1)\n",
    "        \n",
    "        # run a forward pass on a batch\n",
    "        logits = model(images)\n",
    "        loss = criterion(logits, labels)\n",
    "        \n",
    "        # run a backward pass\n",
    "        optmizer.zero_grad()\n",
    "        loss.backward()\n",
    "        optmizer.step()\n",
    "        \n",
    "        loss_epoch += loss.item()\n",
    "    else:\n",
    "        val_loss = 0\n",
    "        val_accuracy = 0\n",
    "        with torch.no_grad():\n",
    "            model.eval()\n",
    "            for images, labels in testloader:\n",
    "                images = images.view(images.shape[0], -1)\n",
    "                img_cl_predictions = model(images)\n",
    "                val_loss += criterion(img_cl_predictions, labels)\n",
    "                \n",
    "                top1_v, top1_cl = img_cl_predictions.topk(1, dim=1)\n",
    "                equals = top1_cl == labels.view(*top1_cl.shape)\n",
    "                val_accuracy += torch.mean(equals.type(torch.FloatTensor))\n",
    "            \n",
    "            model.train()\n",
    "            print(f'Epoch: {e + 1}')\n",
    "            print(f'Train loss: {loss_epoch/len(trainloader)}')\n",
    "            print(f'Validation loss: {val_loss/len(testloader)}')\n",
    "            print(f'Accuracy: {val_accuracy/len(testloader)*100}%')\n"
   ]
  },
  {
   "cell_type": "markdown",
   "metadata": {},
   "source": [
    "## Inference\n",
    "\n",
    "Now that the model is trained, we can use it for inference. We've done this before, but now we need to remember to set the model in inference mode with `model.eval()`. You'll also want to turn off autograd with the `torch.no_grad()` context."
   ]
  },
  {
   "cell_type": "code",
   "execution_count": 32,
   "metadata": {},
   "outputs": [
    {
     "data": {
      "image/png": "[encoded data removed]",
      "text/plain": [
       "<Figure size 432x648 with 2 Axes>"
      ]
     },
     "metadata": {},
     "output_type": "display_data"
    }
   ],
   "source": [
    "# Import helper module (should be in the repo)\n",
    "import helper\n",
    "\n",
    "# Test out your network!\n",
    "\n",
    "model.eval()\n",
    "\n",
    "dataiter = iter(testloader)\n",
    "images, labels = dataiter.next()\n",
    "img = images[0]\n",
    "# Convert 2D image to 1D vector\n",
    "img = img.view(1, 784)\n",
    "\n",
    "# Calculate the class probabilities (softmax) for img\n",
    "with torch.no_grad():\n",
    "    output = model.forward(img)\n",
    "\n",
    "ps = torch.exp(output)\n",
    "\n",
    "# Plot the image and probabilities\n",
    "helper.view_classify(img.view(1, 28, 28), ps, version='Fashion')"
   ]
  },
  {
   "cell_type": "markdown",
   "metadata": {},
   "source": [
    "## Next Up!\n",
    "\n",
    "In the next part, I'll show you how to save your trained models. In general, you won't want to train a model everytime you need it. Instead, you'll train once, save it, then load the model when you want to train more or use if for inference."
   ]
  }
 ],
 "metadata": {
  "kernelspec": {
   "display_name": "Python 3",
   "language": "python",
   "name": "python3"
  },
  "language_info": {
   "codemirror_mode": {
    "name": "ipython",
    "version": 3
   },
   "file_extension": ".py",
   "mimetype": "text/x-python",
   "name": "python",
   "nbconvert_exporter": "python",
   "pygments_lexer": "ipython3",
   "version": "3.6.5"
  }
 },
 "nbformat": 4,
 "nbformat_minor": 2
}
